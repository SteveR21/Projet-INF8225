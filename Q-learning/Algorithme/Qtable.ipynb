{
 "cells": [
  {
   "cell_type": "code",
   "execution_count": 86,
   "metadata": {},
   "outputs": [],
   "source": [
    "import matlab.engine\n",
    "eng = matlab.engine.start_matlab()"
   ]
  },
  {
   "cell_type": "code",
   "execution_count": 113,
   "metadata": {},
   "outputs": [],
   "source": [
    "def recompense(vecteur,objectif):\n",
    "    tr_desire=objectif[0].item()\n",
    "    ov_desire=objectif[1].item()\n",
    "    err_desire=objectif[2].item()\n",
    "    kp=vecteur[0].item()\n",
    "    ki=vecteur[1].item()\n",
    "    kd=vecteur[2].item()\n",
    "    resultat=eng.controleur(kp,kd,ki,nargout=3)\n",
    "    tr=np.array(resultat[0])\n",
    "    ov=np.array(resultat[1])\n",
    "    err=np.array(resultat[2])\n",
    "    if tr==tr_desire:\n",
    "        reward1=100\n",
    "    else:\n",
    "        reward1=-abs(tr-tr_desire)\n",
    "    if ov==ov_desire:\n",
    "        reward2=100\n",
    "    else:\n",
    "        reward2=-abs(ov-ov_desire) \n",
    "        \n",
    "    if err==err_desire:\n",
    "        reward3=100\n",
    "    else:\n",
    "        reward3=-abs(err-err_desire)      \n",
    "    reward=reward1+reward2+reward3\n",
    "    return reward\n",
    "\n",
    "\n",
    "\n",
    "def conversion_ligneTOvecteur(ligne):\n",
    "    \n",
    "    a=int(ligne/(100*100))\n",
    "    res=ligne-a*10000\n",
    "    b=int(res/100)\n",
    "    c=int(ligne-(a)*10000-(b)*100)\n",
    "    return np.array([a,b,c])\n",
    "\n",
    "def conversion_vecteurTOligne(vecteur):\n",
    "    kp=vecteur[0]\n",
    "    ki=vecteur[1]\n",
    "    kd=vecteur[2]\n",
    "    ligne=kp*10000+ki*100+kd\n",
    "    return ligne\n",
    "    \n",
    "a= conversion_ligneTOvecteur(200)\n",
    "\n",
    "b=conversion_vecteurTOligne([99, 0 ,1])\n",
    "\n",
    "def faire_action(numero,vecteur):\n",
    "    kp=vecteur[0]\n",
    "    ki=vecteur[1]\n",
    "    kd=vecteur[2]\n",
    "    if numero == 0:\n",
    "        kp=kp+1\n",
    "    if numero == 1:\n",
    "        kp=kp-1\n",
    "    if numero == 2:\n",
    "        kp=kp\n",
    "    if numero == 3:\n",
    "        ki=ki+1\n",
    "    if numero == 4:\n",
    "        ki=ki-1\n",
    "    if numero == 5:\n",
    "        ki=ki\n",
    "    if numero == 6:\n",
    "        kd=kd+1\n",
    "    if numero == 7:\n",
    "        kd=kd-1\n",
    "    if numero == 8:\n",
    "        kd=kd\n",
    "        \n",
    "    if kp>99 :\n",
    "        kp=99\n",
    "    if kp<0:\n",
    "        kp=0\n",
    "    if ki>99 :\n",
    "        ki=99\n",
    "    if ki<0:\n",
    "        ki=0\n",
    "    if kd>99 :\n",
    "        kd=99\n",
    "    if kd<0:\n",
    "        kd=0\n",
    "        \n",
    "    vecteur=np.array([kp,ki,kd])\n",
    "    return vecteur"
   ]
  },
  {
   "cell_type": "code",
   "execution_count": null,
   "metadata": {
    "scrolled": true
   },
   "outputs": [],
   "source": [
    "## create Q-table\n",
    "import numpy as np\n",
    "from random import randint\n",
    "Qtable=np.zeros((1000000,9))\n",
    "Qtable\n",
    "tr_desire=1\n",
    "ov_desire=1.15\n",
    "err_desire=0\n",
    "objectif=np.array([tr_desire,ov_desire,err_desire])\n",
    "discount = 0.9\n",
    "learning_rate = 0.1\n",
    "Qtable.shape\n",
    "for i in range(1000000):\n",
    "    cur_pos=randint(0,999999)\n",
    "    vecteur=conversion_ligneTOvecteur(cur_pos)\n",
    "    action=randint(0,8)\n",
    "    new_pos=conversion_vecteurTOligne(faire_action(action,vecteur))\n",
    "    \n",
    "    reward=recompense(vecteur,objectif)\n",
    "    Qtable[cur_pos][action] = Qtable[cur_pos][action] + learning_rate * (reward + discount * max(Qtable[new_pos]) - Qtable[cur_pos][action])\n",
    "            \n",
    "    cur_pos = new_pos\n",
    "    print('\\n loading: {}, current_position: {}, new_position: {} '.format(i/1000000,cur_pos,new_pos))\n",
    "    \n",
    "print(Qtable)"
   ]
  },
  {
   "cell_type": "code",
   "execution_count": 112,
   "metadata": {},
   "outputs": [
    {
     "data": {
      "text/plain": [
       "array([100,  63,  96])"
      ]
     },
     "execution_count": 112,
     "metadata": {},
     "output_type": "execute_result"
    }
   ],
   "source": [
    "Qtable[999999][8]\n",
    "cur_pos\n",
    "action\n",
    "new_pos\n",
    "vecteur\n",
    "faire_action(action,vecteur)"
   ]
  }
 ],
 "metadata": {
  "kernelspec": {
   "display_name": "Python 3",
   "language": "python",
   "name": "python3"
  },
  "language_info": {
   "codemirror_mode": {
    "name": "ipython",
    "version": 3
   },
   "file_extension": ".py",
   "mimetype": "text/x-python",
   "name": "python",
   "nbconvert_exporter": "python",
   "pygments_lexer": "ipython3",
   "version": "3.6.5"
  }
 },
 "nbformat": 4,
 "nbformat_minor": 2
}
